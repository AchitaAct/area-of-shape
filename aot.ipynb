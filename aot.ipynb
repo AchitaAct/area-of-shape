{
  "nbformat": 4,
  "nbformat_minor": 0,
  "metadata": {
    "colab": {
      "provenance": [],
      "authorship_tag": "ABX9TyNTXT9AL1QIliZQDmsJyJTm",
      "include_colab_link": true
    },
    "kernelspec": {
      "name": "python3",
      "display_name": "Python 3"
    }
  },
  "cells": [
    {
      "cell_type": "markdown",
      "metadata": {
        "id": "view-in-github",
        "colab_type": "text"
      },
      "source": [
        "<a href=\"https://colab.research.google.com/github/AchitaAct/area-of-triangle/blob/main/aot.ipynb\" target=\"_parent\"><img src=\"https://colab.research.google.com/assets/colab-badge.svg\" alt=\"Open In Colab\"/></a>"
      ]
    },
    {
      "cell_type": "code",
      "metadata": {
        "colab": {
          "base_uri": "https://localhost:8080/"
        },
        "id": "8o7KhEM5NsTp",
        "outputId": "eea9c771-19c4-4508-ed2a-5c97f428dab3"
      },
      "source": [
        "print('โปรแกรมหาพื้นที่สามเหลี่ยม')\n",
        "num1 = int(input('ตัวเลขที่ 1 : '))\n",
        "num2 = int(input('ตัวเลขที่ 2 : '))\n",
        "t = 1/2*num1*num2\n",
        "print('พื้นที่สามเหลี่ยม : ',t)"
      ],
      "execution_count": null,
      "outputs": [
        {
          "output_type": "stream",
          "text": [
            "โปรแกรมหาพื้นที่สามเหลี่ยม\n",
            "ตัวเลขที่ 1 : 5\n",
            "ตัวเลขที่ 2 : 6\n",
            "พื้นที่สามเหลี่ยม :  15.0\n"
          ],
          "name": "stdout"
        }
      ]
    },
    {
      "cell_type": "markdown",
      "source": [],
      "metadata": {
        "id": "yJSIpWd6meNZ"
      }
    },
    {
      "cell_type": "markdown",
      "source": [],
      "metadata": {
        "id": "pRzFNk25meQH"
      }
    },
    {
      "cell_type": "code",
      "metadata": {
        "colab": {
          "base_uri": "https://localhost:8080/"
        },
        "id": "12u0gD2LP67C",
        "outputId": "8be2b9fe-94d5-463d-b4eb-3433ec55ec9f"
      },
      "source": [
        "a = int(input('กรุณาใส่ตัวเลข : '))\n",
        "b = a+1,a-1\n",
        "print(b)"
      ],
      "execution_count": null,
      "outputs": [
        {
          "output_type": "stream",
          "text": [
            "กรุณาใส่ตัวเลข : 5\n",
            "(6, 4)\n"
          ],
          "name": "stdout"
        }
      ]
    },
    {
      "cell_type": "code",
      "metadata": {
        "colab": {
          "base_uri": "https://localhost:8080/"
        },
        "id": "0okHIa93QWO1",
        "outputId": "1990cf3d-3723-42d5-fffc-697891856339"
      },
      "source": [
        "print('โปรแกรมรวมเลข')\n",
        "num1 = int(input('ตัวเลขที่ 1 : '))\n",
        "num2 = int(input('ตัวเลขที่ 2 : '))\n",
        "num3 = int(input('ตัวเลขที่ 3 : '))\n",
        "t = num1 + num2 + num3\n",
        "print('ผลรวม : ',t)"
      ],
      "execution_count": null,
      "outputs": [
        {
          "output_type": "stream",
          "text": [
            "โปรแกรมรวมเลข\n",
            "ตัวเลขที่ 1 : 1\n",
            "ตัวเลขที่ 2 : 2\n",
            "ตัวเลขที่ 3 : 3\n",
            "ผลรวม :  6\n"
          ],
          "name": "stdout"
        }
      ]
    }
  ]
}